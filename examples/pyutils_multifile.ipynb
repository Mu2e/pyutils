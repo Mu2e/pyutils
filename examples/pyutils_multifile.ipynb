{
 "cells": [
  {
   "cell_type": "markdown",
   "id": "82b045e8-ffa7-46ba-899e-da2638ece05a",
   "metadata": {},
   "source": [
    "# `pyutils` multifile  \n",
    "\n",
    "## Introduction \n",
    "\n",
    "This turorial is intended to show users how to handle multiple input files using `pyutils`, either using local file lists, remote file lists, and SAM definitions. We cover simple array-based processing and more complex custom processing.\n",
    "\n",
    "## Table of contents\n",
    "1. Setup\n",
    "1. Simple processing\n",
    "1. Complex processing & analysis with the `Skeleton` template class"
   ]
  },
  {
   "cell_type": "markdown",
   "id": "489b22a8-1562-4226-bbca-6d4083ebd335",
   "metadata": {},
   "source": [
    "## 1. Setup\n",
    "\n",
    "As in [pyutils_basics.ipynb](pyutils_basics.ipynb), we need to add `pyutils` to our Python path."
   ]
  },
  {
   "cell_type": "code",
   "execution_count": 1,
   "id": "ff439752-db7b-45aa-a062-1bb681e1d7ef",
   "metadata": {},
   "outputs": [],
   "source": [
    "import sys \n",
    "sys.path.append(\"../../utils/pyutils\")"
   ]
  },
  {
   "cell_type": "markdown",
   "id": "b117e152-c9b1-4442-91fd-8fc2ee6b87cf",
   "metadata": {},
   "source": [
    "## 2. Simple processing\n",
    "\n",
    "The `process_data` function from `pyprocess` can be used to multithread processes on a list of EventNtuple files. This will work with both local and remote files. \n",
    "\n",
    "The default behaviour is to return the results as a single concatenated awkward array, which works well for small datasets. As will be discussed in example 3, you can customise the \"process function\" to run whatever task you need against each file, where the output will be a list of results from your function. \n",
    "\n"
   ]
  },
  {
   "cell_type": "code",
   "execution_count": 2,
   "id": "342b7f66-cdc2-495c-9c18-e22ac3ec6a11",
   "metadata": {},
   "outputs": [
    {
     "name": "stdout",
     "output_type": "stream",
     "text": [
      "[pyutils] ⭐️ Setting up...\n",
      "[pyutils] ✅ Ready\n",
      "[pyprocess] ⭐️ Initialised Processor:\n",
      "\tpath = 'EventNtuple/ntuple'\n",
      "\tuse_remote = True\n",
      "\tlocation = disk\n",
      "\tschema = root\n",
      "\tverbosity=2\n",
      "[pyprocess] ⭐️ Loading file list from /exp/mu2e/data/users/sgrant/pyutils-test/TestFileLists/remote_file_list.txt\n",
      "[pyprocess] ✅ Successfully loaded file list\n",
      "\tPath: None\n",
      "\tCount: 10 files\n",
      "[pyprocess] ⭐️ Starting processing on 10 files with 10 threads\n"
     ]
    },
    {
     "name": "stderr",
     "output_type": "stream",
     "text": [
      "Processing: 100%|\u001b[32m██████████████████████████████\u001b[0m| 10/10 [00:17<00:00,  1.76s/file, successful=10, failed=0]\u001b[0m\n"
     ]
    },
    {
     "name": "stdout",
     "output_type": "stream",
     "text": [
      "[pyprocess] ✅ Returning concatenated array containing 70255 events\n",
      "[pyprocess] 👀 Array structure:\n",
      "70255 * {\n",
      "    event: int32,\n",
      "    \"trk.nactive\": var * int32,\n",
      "    trksegs: var * var * struct[{\n",
      "        mom: struct[{\n",
      "            fCoordinates: struct[{\n",
      "                fX: float32,\n",
      "                fY: float32,\n",
      "                fZ: float32\n",
      "            }, parameters={\"__record__\": \"ROOT::Math::Cartesian3D<float>\"}]\n",
      "        }, parameters={\"__record__\": \"ROOT::Math::DisplacementVector3D<ROOT::Math::Cartesian3D<float>,ROOT::Math::DefaultCoordinateSystemTag>\"}],\n",
      "        pos: struct[{\n",
      "            fCoordinates: struct[{\n",
      "                fX: float32,\n",
      "                fY: float32,\n",
      "                fZ: float32\n",
      "            }, parameters={\"__record__\": \"ROOT::Math::Cartesian3D<float>\"}]\n",
      "        }, parameters={\"__record__\": \"ROOT::Math::DisplacementVector3D<ROOT::Math::Cartesian3D<float>,ROOT::Math::DefaultCoordinateSystemTag>\"}],\n",
      "        time: float64,\n",
      "        dmom: float32,\n",
      "        momerr: float32,\n",
      "        inbounds: bool,\n",
      "        gap: bool,\n",
      "        early: bool,\n",
      "        late: bool,\n",
      "        sid: int32,\n",
      "        sindex: int32\n",
      "    }, parameters={\"__record__\": \"mu2e::TrkSegInfo\"}],\n",
      "    \"trkqual.result\": var * float32,\n",
      "    \"crvcoincs.PEs\": var * float32\n",
      "}\n"
     ]
    }
   ],
   "source": [
    "# Import the Processor class from pyprocess \n",
    "from pyprocess import Processor \n",
    "\n",
    "# Initialise the Processor class instance\n",
    "# If files are \n",
    "processor = Processor(\n",
    "    use_remote = True, \n",
    "    location = \"disk\",\n",
    "    verbosity = 2\n",
    ")\n",
    "\n",
    "# Define path to list of 10 local files\n",
    "# \"Local\" means that each file name includes the full path to a localtion on a local disk, such as `/exp/data`. \n",
    "# file_list_path = \"/exp/mu2e/data/users/sgrant/pyutils-test/TestFileLists/local_file_list.txt\"\n",
    "file_list_path = \"/exp/mu2e/data/users/sgrant/pyutils-test/TestFileLists/remote_file_list.txt\"\n",
    "\n",
    "# Define branches\n",
    "# Branches can also be defined as a list of a grouped dict of lists, depending on requirements\n",
    "branches = [\n",
    "    \"event\",\n",
    "    \"trk.nactive\",\n",
    "    \"trkqual.result\",\n",
    "    \"crvcoincs.PEs\",\n",
    "    \"trksegs\"\n",
    "]\n",
    "\n",
    "# Process the files using multithreading\n",
    "data = processor.process_data(\n",
    "    file_list_path = file_list_path, \n",
    "    # defname = defname, # Alternatively, you can provide a SAM definition\n",
    "    branches = branches\n",
    ")"
   ]
  },
  {
   "cell_type": "markdown",
   "id": "d6d2f57f-8ab3-4ac3-bd16-b7706c2f28b9",
   "metadata": {},
   "source": [
    "We now have a concatenated awkward array called `data` which can be used for analysis.\n",
    "\n",
    "> **Note**: Be mindful of memory constraints with large datasets."
   ]
  },
  {
   "cell_type": "markdown",
   "id": "1e9168f4-908b-4d9f-9e94-d35fd2e9c886",
   "metadata": {},
   "source": [
    "## 3. Complex processing with the `Skeleton` template class\n",
    "   \n",
    "The `pyprocess` framework provides tools for complex processing on large datasets where simple array-based approaches become impractical due to memory constraints. The `Skeleton` processor class provides access to pre-written methods which leverage the tools in the main `Processor` class, limiting the amount of custom code required, while also providing the flexiblity to override methods as needed. \n",
    "\n",
    "In this example, we will learn how to use the Skeleton to accumulate histograms from multiple files. "
   ]
  },
  {
   "cell_type": "code",
   "execution_count": 3,
   "id": "f9a842bb-4461-4f10-83df-8b2388707d36",
   "metadata": {},
   "outputs": [
    {
     "name": "stdout",
     "output_type": "stream",
     "text": [
      "[Skeleton] ⭐️ Skeleton init\n",
      "[Skeleton] ⭐️ Starting analysis\n",
      "[pyprocess] ⭐️ Initialised Processor:\n",
      "\tpath = 'EventNtuple/ntuple'\n",
      "\tuse_remote = True\n",
      "\tlocation = disk\n",
      "\tschema = root\n",
      "\tverbosity=1\n",
      "[pyprocess] ✅ Successfully loaded file list\n",
      "\tSAM definition: nts.mu2e.CosmicCRYSignalAllOffSpillTriggered-LH.MDC2020as_best_v1_3_v06_03_00.root\n",
      "\tCount: 817 files\n",
      "[pyprocess] ⭐️ Starting processing on 817 files with 100 threads\n"
     ]
    },
    {
     "name": "stderr",
     "output_type": "stream",
     "text": [
      "Processing: 100%|\u001b[32m██████████████████████████████\u001b[0m| 817/817 [05:18<00:00,  2.56file/s, successful=817, failed=0]\u001b[0m"
     ]
    },
    {
     "name": "stdout",
     "output_type": "stream",
     "text": [
      "[pyprocess] ⭐️ Returning 817 results\n",
      "[Skeleton] ✅ Analysis complete\n"
     ]
    },
    {
     "name": "stderr",
     "output_type": "stream",
     "text": [
      "\n"
     ]
    }
   ],
   "source": [
    "# Import required external packages\n",
    "import awkward as ak    \n",
    "import hist\n",
    "\n",
    "# Import the framework classes\n",
    "from pyprocess import Skeleton # The base template class that provides structure\n",
    "from pyimport import Importer # Used to extract the data from ROOT files\n",
    "\n",
    "# Create your custom processor class\n",
    "# We inherit from Skeleton - this gives us many pre-built methods without writing extra code\n",
    "class MyProcessor(Skeleton):\n",
    "    \"\"\"Your custom file processor \n",
    "    \n",
    "    This class inherits from the Skeleton base class, which provides the \n",
    "    basic structure and methods withing the Processor framework \n",
    "    \"\"\"\n",
    "    \n",
    "    def __init__(self):\n",
    "        \"\"\"Initialise your processor with specific configuration\n",
    "        \n",
    "        This method sets up all the parameters needed for this specific analysis.\n",
    "        \"\"\"\n",
    "        # Call the parent class's __init__ method first\n",
    "        # This ensures we have all the base functionality properly set up\n",
    "        super().__init__()\n",
    "\n",
    "        # Now override parameters from the Skeleton with the ones we need\n",
    "        # Data selection configuration \n",
    "        self.defname = \"nts.mu2e.CosmicCRYSignalAllOffSpillTriggered-LH.MDC2020as_best_v1_3_v06_03_00.root\"\n",
    "        # self.file_list_path = \"/exp/mu2e/data/users/sgrant/EventNtuple/TestFileLists/local_file_list.txt\"\n",
    "        # self.file_list_path = \"/exp/mu2e/data/users/sgrant/mu2e_cosmic_ana/nts.mu2e.CosmicCRYSignalAllOffSpillTriggered-LH.MDC2020as_best_v1_3_v06_03_00.0_249.txt\"\n",
    "        \n",
    "        self.branches = [\"crvcoincs.PEs\"]\n",
    "        self.use_remote = True       # Use remote file via mdh\n",
    "        self.location = \"disk\"       # File location\n",
    "        self.use_processes = False   # Use multiproccessing rather than multithreading, if desired\n",
    "        self.max_workers = 100       # Limit the number of worker threads\n",
    "\n",
    "        # Now add your own analysis-specific parameters \n",
    "        # Histogram configuration: 1000 bins ranging from 0 to 10000\n",
    "        self.nbins = 1000         \n",
    "        self.xmin = 0\n",
    "        self.xmax = 10000\n",
    "    \n",
    "    # ==========================================\n",
    "    # Define the core processing logic\n",
    "    # ==========================================\n",
    "    # This method overrides the parent class's process_file method\n",
    "    # It will be called automatically for each file by the execute method\n",
    "    def process_file(self, file_name):\n",
    "        \"\"\"Process a single ROOT file\n",
    "        \n",
    "        This method will be called for each file in our list.\n",
    "        It extracts data, processes it, and returns a result.\n",
    "        \n",
    "        Args:\n",
    "            file_name: Path to the ROOT file to process\n",
    "            \n",
    "        Returns:\n",
    "            A tuple containing the histogram (counts and bin edges)\n",
    "        \"\"\"\n",
    "        try:\n",
    "            # Create a local Processor to extract data from this file\n",
    "            # This uses the configuration parameters in our class\n",
    "            this_processor = Processor(\n",
    "                use_remote=self.use_remote, # Use remote file via mdh\n",
    "                location=self.location,     # File location\n",
    "                verbosity=0                 # Reduce output in worker threads\n",
    "            )\n",
    "\n",
    "            \n",
    "            # Process this file data and return an array\n",
    "            this_data = this_processor.process_data(\n",
    "                file_name=file_name,\n",
    "                branches=self.branches\n",
    "            )\n",
    "            \n",
    "            # ---- Analysis ----\n",
    "            \n",
    "            # Flatten the nested array \n",
    "            hist_data = ak.flatten(this_data[\"crvcoincs.PEs\"], axis=None)\n",
    "            \n",
    "            # Create histogram object with hist\n",
    "            # https://pypi.org/project/hist/\n",
    "            this_hist = hist.Hist(\n",
    "                hist.axis.Regular(self.nbins, self.xmin, self.xmax, name=\"PEs\", label=\"PEs\")\n",
    "            )\n",
    "\n",
    "            # Fill the histogram\n",
    "            this_hist.fill(hist_data) \n",
    "            \n",
    "            # Return the histogram data\n",
    "            # This will be appended to a list by the execute method\n",
    "            return this_hist \n",
    "        \n",
    "        except Exception as e:\n",
    "            # Handle any errors that occur during processing\n",
    "            print(f\"Error processing {file_name}: {e}\")\n",
    "            return None\n",
    "\n",
    "# ==========================================\n",
    "# Create and run the processor\n",
    "# ==========================================\n",
    "# Create an instance of our custom processor\n",
    "my_processor = MyProcessor()\n",
    "\n",
    "# Run the processor on all files\n",
    "# The execute method comes from the Skeleton parent class\n",
    "hists = my_processor.execute()\n",
    "\n",
    "# At this point, 'hists' contains the results from all processed files\n",
    "# You can now analyze, plot, or save these results"
   ]
  },
  {
   "cell_type": "markdown",
   "id": "7f2568c9-c20d-4760-ad22-2851799f75ab",
   "metadata": {},
   "source": [
    "> **Note**: Be mindful of the number of maximum number worker threads when working on a shared machine. If in doubt, use fewer workers, not more. \n",
    "\n",
    "At this point, 'hists' contains the results from all processed files\n",
    "You can now analyse, plot, or save these results"
   ]
  },
  {
   "cell_type": "markdown",
   "id": "34ef9d60-aa44-4c2c-8bc3-c206dcae73e8",
   "metadata": {},
   "source": [
    "## Postprocessing: combine and plot the results"
   ]
  },
  {
   "cell_type": "code",
   "execution_count": 10,
   "id": "3c32ce25-9f36-457f-8708-830df2a8a975",
   "metadata": {},
   "outputs": [
    {
     "name": "stdout",
     "output_type": "stream",
     "text": [
      "797.2223614941088\n"
     ]
    }
   ],
   "source": [
    "# Combine the histograms\n",
    "def combine_histograms(hists):\n",
    "    \"\"\"Combine histograms from multiple files\n",
    "    \"\"\"\n",
    "    combined_hist = None\n",
    "    \n",
    "    # Check if we have results\n",
    "    if not hists:\n",
    "        return None\n",
    "    \n",
    "    # Loop through all results\n",
    "    for hist in hists: \n",
    "         # Add this histogram to the accumulated one\n",
    "        if combined_hist is None: # First one\n",
    "            combined_hist = hist.copy() \n",
    "        else: # Following ones\n",
    "            combined_hist += hist # hist packages makes this easy\n",
    "    \n",
    "    return combined_hist\n",
    "\n",
    "combined_hist = combine_histograms(hists)\n",
    "\n",
    "# Check that the combined hist is close to the expected counts (~800 times one file)\n",
    "print(combined_hist.sum() / hists[0].sum())"
   ]
  },
  {
   "cell_type": "code",
   "execution_count": 6,
   "id": "4fc3035f-a43b-4f68-a2bd-bf0594f31371",
   "metadata": {},
   "outputs": [
    {
     "data": {
      "image/png": "[encoded data removed]",
      "text/plain": [
       "<Figure size 640x480 with 1 Axes>"
      ]
     },
     "metadata": {},
     "output_type": "display_data"
    }
   ],
   "source": [
    "# Now plot\n",
    "import matplotlib.pyplot as plt\n",
    "plt.style.use(\"mu2e.mplstyle\")\n",
    "fig, ax = plt.subplots()\n",
    "combined_hist.plot()\n",
    "ax.set_yscale(\"log\")\n",
    "ax.set_title(\"Combined histogram of PEs\")\n",
    "ax.grid(True, alpha=0.3)\n",
    "plt.tight_layout()\n",
    "plt.savefig(\"h1_PEs.png\", dpi=300)\n",
    "plt.show()"
   ]
  },
  {
   "cell_type": "markdown",
   "id": "b1404fea-7717-42bc-8867-2d1942ba41c0",
   "metadata": {},
   "source": [
    "> **Note**: I am not using `pyplot` here because at present it only works with flattened arrays, not histogram objects."
   ]
  }
 ],
 "metadata": {
  "kernelspec": {
   "display_name": "mu2e_env [conda env:.conda-mu2e_env]",
   "language": "python",
   "name": "conda-env-.conda-mu2e_env-mu2e_env.v1.3.0"
  },
  "language_info": {
   "codemirror_mode": {
    "name": "ipython",
    "version": 3
   },
   "file_extension": ".py",
   "mimetype": "text/x-python",
   "name": "python",
   "nbconvert_exporter": "python",
   "pygments_lexer": "ipython3",
   "version": "3.12.7"
  }
 },
 "nbformat": 4,
 "nbformat_minor": 5
}
