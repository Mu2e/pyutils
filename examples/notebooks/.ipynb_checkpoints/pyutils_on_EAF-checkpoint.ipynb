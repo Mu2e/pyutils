{
 "cells": [
  {
   "cell_type": "markdown",
   "id": "f3d6feb2-f68a-4ecf-b4f7-1a48ae584b68",
   "metadata": {},
   "source": [
    "# Accessing `/pnfs` on EAF with `pyutils` \n",
    "\n",
    "## Introduction \n",
    "\n",
    "This turorial is primarily intended to show users how to access files hosted on `/pnfs` (and defined in SAM) while working on EAF. For general information on EAF, see [tutorial](https://github.com/Mu2e/Tutorial/tree/main/EAF). \n",
    "\n",
    "`/pnfs` is not mounted on EAF, so the `pyread` module provides functionality to read these files with `xroot` via `mdh`. \n",
    "\n",
    "## Table of contents\n",
    "1. Using `pyread` directly \n",
    "1. Using `pyimport`"
   ]
  },
  {
   "cell_type": "markdown",
   "id": "ee930cd9-add1-40dc-a36c-f3c9c93eec3a",
   "metadata": {},
   "source": [
    "## 1. Using `pyread` directly \n",
    "\n",
    "We can use the `Reader` class with the `use_remote` flag set to `True` to generate an xroot URL for a file and read it with uproot.  \n",
    "\n",
    "`pyread` relies on `mdh` to generate the URL, and so `Reader` inherits the `location` and `schema` arguments from `mdh`, which are explained below: \n",
    "\n",
    "```\n",
    "$ mdh print-url --help\n",
    "usage: mdh print-url [-h] [-l LOCATION] [-s SCHEMA] names [names ...]\n",
    "\n",
    "...\n",
    "\n",
    "  -l LOCATION, --location LOCATION\n",
    "                        standard location to use:\n",
    "                          tape (default), disk, scratch, nersc\n",
    "  -s SCHEMA, --schema SCHEMA\n",
    "                        Schema to use in writing the url:\n",
    "                          path (default),http,root,dcap,sam\n",
    "```\n",
    "\n",
    ">**Note**: When using remote files `pyutils`, will set the necessary environment variables (allowing us to leverage Mu2e file handling tools) **once** per process. \n"
   ]
  },
  {
   "cell_type": "code",
   "execution_count": 1,
   "id": "f0e41553-eba2-474f-87b7-38dfcb0283a1",
   "metadata": {},
   "outputs": [
    {
     "name": "stdout",
     "output_type": "stream",
     "text": [
      "[pyutils] ⭐️ Setting up...\n",
      "[pyutils] ✅ Ready\n",
      "[pyread] ⭐️ Opening remote file: nts.mu2e.CosmicCRYSignalAllOffSpillTriggered-LH.MDC2020as_best_v1_3_v06_03_00.001202_00050440.root\n",
      "[pyread] ⭐️ Created file path: root://fndcadoor.fnal.gov:1094/mu2e/persistent/datasets/phy-nts/nts/mu2e/CosmicCRYSignalAllOffSpillTriggered-LH/MDC2020as_best_v1_3_v06_03_00/root/08/90/nts.mu2e.CosmicCRYSignalAllOffSpillTriggered-LH.MDC2020as_best_v1_3_v06_03_00.001202_00050440.root\n",
      "[pyread] ✅ Opened root://fndcadoor.fnal.gov:1094/mu2e/persistent/datasets/phy-nts/nts/mu2e/CosmicCRYSignalAllOffSpillTriggered-LH/MDC2020as_best_v1_3_v06_03_00/root/08/90/nts.mu2e.CosmicCRYSignalAllOffSpillTriggered-LH.MDC2020as_best_v1_3_v06_03_00.001202_00050440.root\n"
     ]
    }
   ],
   "source": [
    "# Import the Reader class\n",
    "from pyutils.pyread import Reader\n",
    "\n",
    "# Define our file name (which is archived in a SAM definition)\n",
    "file_name = \"nts.mu2e.CosmicCRYSignalAllOffSpillTriggered-LH.MDC2020as_best_v1_3_v06_03_00.001202_00050440.root\"\n",
    "\n",
    "# Initialise the Reader with the appropriate arguments\n",
    "reader = Reader(\n",
    "    use_remote = True,\n",
    "    location = \"disk\", # This file is located on persistent, so we use \"disk\" \n",
    "    verbosity = 2\n",
    ")\n",
    "\n",
    "# Retrieve an uproot object for this file\n",
    "file = reader.read_file(file_name)\n",
    "\n"
   ]
  },
  {
   "cell_type": "markdown",
   "id": "582a4251-a10b-43e3-81fa-1b17e2bb94b0",
   "metadata": {},
   "source": [
    "The URL has been created and the file has been opened, we can now inspect the file..."
   ]
  },
  {
   "cell_type": "code",
   "execution_count": 2,
   "id": "2cd5dc14-461a-4717-8bc7-eb2a3e78802c",
   "metadata": {},
   "outputs": [
    {
     "data": {
      "text/plain": [
       "['EventNtuple;1',\n",
       " 'EventNtuple/ntuple;19',\n",
       " 'EventNtuple/ntuple;18',\n",
       " 'EventNtuple/version;1',\n",
       " 'genCountLogger;1',\n",
       " 'genCountLogger/numEvents;1',\n",
       " 'genCountLogger/numSubRuns;1']"
      ]
     },
     "execution_count": 2,
     "metadata": {},
     "output_type": "execute_result"
    }
   ],
   "source": [
    "file.keys()"
   ]
  },
  {
   "cell_type": "markdown",
   "id": "8f8ae684-48e9-40c5-924e-4fb997ae3a07",
   "metadata": {},
   "source": [
    "## 2. Using `pyprocess`\n",
    "\n",
    "`pyprocess` employs `pyread` as a dependancy, so if we are working with TTrees (`EventNtuple`) we can skip `pyread` and use `pyprocess` to retrieve our data as a structured array. \n",
    "\n"
   ]
  },
  {
   "cell_type": "code",
   "execution_count": 3,
   "id": "499ccc88-b3b3-4e02-94a1-4a3ad54286f1",
   "metadata": {},
   "outputs": [
    {
     "name": "stdout",
     "output_type": "stream",
     "text": [
      "[pyprocess] ⭐️ Initialised Processor:\n",
      "\tpath = 'EventNtuple/ntuple'\n",
      "\tuse_remote = True\n",
      "\tlocation = disk\n",
      "\tschema = root\n",
      "\tverbosity=2\n",
      "[pyread] ⭐️ Opening remote file: nts.mu2e.CosmicCRYSignalAllOffSpillTriggered-LH.MDC2020as_best_v1_3_v06_03_00.001202_00050440.root\n",
      "[pyread] ⭐️ Created file path: root://fndcadoor.fnal.gov:1094/mu2e/persistent/datasets/phy-nts/nts/mu2e/CosmicCRYSignalAllOffSpillTriggered-LH/MDC2020as_best_v1_3_v06_03_00/root/08/90/nts.mu2e.CosmicCRYSignalAllOffSpillTriggered-LH.MDC2020as_best_v1_3_v06_03_00.001202_00050440.root\n",
      "[pyread] ✅ Opened root://fndcadoor.fnal.gov:1094/mu2e/persistent/datasets/phy-nts/nts/mu2e/CosmicCRYSignalAllOffSpillTriggered-LH/MDC2020as_best_v1_3_v06_03_00/root/08/90/nts.mu2e.CosmicCRYSignalAllOffSpillTriggered-LH.MDC2020as_best_v1_3_v06_03_00.001202_00050440.root\n",
      "[pyimport] 👀 Accessing branches in tree:\n",
      "name                 | typename                 | interpretation                                                                                      \n",
      "---------------------+--------------------------+-----------------------------------------------------------------------------------------------------\n",
      "evtinfo/event        | int32_t                  | AsDtype('>i4')\n",
      "trk/trk.nactive      | int32_t[]                | AsJagged(AsDtype('>i4'))\n",
      "trksegs              | std::vector<std::vect... | AsObjects(AsVector(True, AsVector(False, Model_mu2e_3a3a_TrkSegInfo)))\n",
      "trkqual/trkqual.r... | float[]                  | AsJagged(AsDtype('>f4'))\n",
      "crvcoincs/crvcoin... | float[]                  | AsJagged(AsDtype('>f4'))\n",
      "[pyimport] ✅ Imported branches\n",
      "[pyimport] 👀 Array structure:\n",
      "6932 * {\n",
      "    event: int32,\n",
      "    \"trk.nactive\": var * int32,\n",
      "    trksegs: var * var * struct[{\n",
      "        mom: struct[{\n",
      "            fCoordinates: struct[{\n",
      "                fX: float32,\n",
      "                fY: float32,\n",
      "                fZ: float32\n",
      "            }, parameters={\"__record__\": \"ROOT::Math::Cartesian3D<float>\"}]\n",
      "        }, parameters={\"__record__\": \"ROOT::Math::DisplacementVector3D<ROOT::Math::Cartesian3D<float>,ROOT::Math::DefaultCoordinateSystemTag>\"}],\n",
      "        pos: struct[{\n",
      "            fCoordinates: struct[{\n",
      "                fX: float32,\n",
      "                fY: float32,\n",
      "                fZ: float32\n",
      "            }, parameters={\"__record__\": \"ROOT::Math::Cartesian3D<float>\"}]\n",
      "        }, parameters={\"__record__\": \"ROOT::Math::DisplacementVector3D<ROOT::Math::Cartesian3D<float>,ROOT::Math::DefaultCoordinateSystemTag>\"}],\n",
      "        time: float64,\n",
      "        dmom: float32,\n",
      "        momerr: float32,\n",
      "        inbounds: bool,\n",
      "        gap: bool,\n",
      "        early: bool,\n",
      "        late: bool,\n",
      "        sid: int32,\n",
      "        sindex: int32\n",
      "    }, parameters={\"__record__\": \"mu2e::TrkSegInfo\"}],\n",
      "    \"trkqual.result\": var * float32,\n",
      "    \"crvcoincs.PEs\": var * float32\n",
      "}\n",
      "[pyprocess] ✅ Returning result from process on nts.mu2e.CosmicCRYSignalAllOffSpillTriggered-LH.MDC2020as_best_v1_3_v06_03_00.001202_00050440.root\n"
     ]
    }
   ],
   "source": [
    "# Import the Importer class\n",
    "from pyutils.pyprocess import Processor\n",
    "\n",
    "# Define our file name (which is archived in a SAM definition)\n",
    "file_name = \"nts.mu2e.CosmicCRYSignalAllOffSpillTriggered-LH.MDC2020as_best_v1_3_v06_03_00.001202_00050440.root\"\n",
    "\n",
    "#  Initialise the Importer with the appropriate arguments\n",
    "processor = Processor( \n",
    "    use_remote = True,\n",
    "    location = \"disk\",\n",
    "    verbosity = 2\n",
    ")\n",
    "\n",
    "# Define branches\n",
    "# Branches can also be defined as a list of a grouped dict of lists, depending on requirements\n",
    "branches = [\n",
    "    \"event\",\n",
    "    \"trk.nactive\",\n",
    "    \"trkqual.result\",\n",
    "    \"crvcoincs.PEs\",\n",
    "    \"trksegs\"\n",
    "]\n",
    "\n",
    "# Import branches \n",
    "data = processor.process_data(\n",
    "    file_name = \"nts.mu2e.CosmicCRYSignalAllOffSpillTriggered-LH.MDC2020as_best_v1_3_v06_03_00.001202_00050440.root\",\n",
    "    # branches = \"*\" # read all branches\n",
    "    branches = branches\n",
    ")"
   ]
  },
  {
   "cell_type": "markdown",
   "id": "9ca26c82-a8cf-4280-a59e-74ea91c7ebb3",
   "metadata": {},
   "source": [
    "We now have an awkward array called `data` which can be used for analysis. "
   ]
  },
  {
   "cell_type": "code",
   "execution_count": null,
   "id": "420f9d65-ea74-434b-b3eb-55906392e796",
   "metadata": {},
   "outputs": [],
   "source": []
  }
 ],
 "metadata": {
  "kernelspec": {
   "display_name": "mu2e_env",
   "language": "python",
   "name": "ana_v2.1.0"
  },
  "language_info": {
   "codemirror_mode": {
    "name": "ipython",
    "version": 3
   },
   "file_extension": ".py",
   "mimetype": "text/x-python",
   "name": "python",
   "nbconvert_exporter": "python",
   "pygments_lexer": "ipython3",
   "version": "3.12.7"
  }
 },
 "nbformat": 4,
 "nbformat_minor": 5
}
