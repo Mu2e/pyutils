{
 "cells": [
  {
   "cell_type": "markdown",
   "metadata": {},
   "source": [
    "# `pycut` demo \n",
    "\n",
    "This notebook demonstrates `pyutils.pycut` module functionality for analysis cuts, including:\n",
    "\n",
    "- Cut definition and management\n",
    "- Cut flow generation and display\n",
    "- Cut configuration comparison\n",
    "- State management\n",
    "\n",
    ">Note: Not shown here is the combination of cut flows when applying cuts during multiprocessing. "
   ]
  },
  {
   "cell_type": "markdown",
   "metadata": {},
   "source": [
    "## 1. Setup and Imports"
   ]
  },
  {
   "cell_type": "code",
   "execution_count": 1,
   "metadata": {},
   "outputs": [],
   "source": [
    "import awkward as ak\n",
    "import numpy as np\n",
    "from pyutils.pyprocess import Processor \n",
    "from pyutils.pylogger import Logger\n",
    "from pyutils.pyvector import Vector\n",
    "from pyutils.pyselect import Select\n",
    "from pyutils.pycut import CutManager\n",
    "from pyutils.pyplot import Plot"
   ]
  },
  {
   "cell_type": "code",
   "execution_count": 2,
   "metadata": {},
   "outputs": [
    {
     "name": "stdout",
     "output_type": "stream",
     "text": [
      "[pyvector] ⭐️ Initialised Vector with verbosity = 1\n"
     ]
    }
   ],
   "source": [
    "# Initialise utilities\n",
    "verbosity = 2\n",
    "\n",
    "logger = Logger(\n",
    "    verbosity=verbosity,\n",
    "    print_prefix=\"[pycut_demo]\"\n",
    ")\n",
    "\n",
    "selector = Select(verbosity=1)\n",
    "vector = Vector(verbosity=1)"
   ]
  },
  {
   "cell_type": "markdown",
   "metadata": {},
   "source": [
    "## 2. Data Processing\n",
    "\n",
    "Load data using the pyprocess module with relevant branches for analysis."
   ]
  },
  {
   "cell_type": "code",
   "execution_count": 3,
   "metadata": {},
   "outputs": [
    {
     "name": "stdout",
     "output_type": "stream",
     "text": [
      "[pyprocess] ⭐️ Initialised Processor:\n",
      "\tpath = 'EventNtuple/ntuple'\n",
      "\tuse_remote = False\n",
      "\tverbosity=1\n",
      "[pyprocess] ⭐️ Loading file list from /exp/mu2e/data/users/sgrant/pyutils-test/filelists/local_file_list.txt\n",
      "[pyprocess] ✅ Successfully loaded file list\n",
      "\tPath: None\n",
      "\tCount: 10 files\n",
      "[pyprocess] ⭐️ Starting processing on 10 files with 10 threads\n"
     ]
    },
    {
     "name": "stderr",
     "output_type": "stream",
     "text": [
      "Processing: 100%|\u001b[32m██████████████████████████████\u001b[0m| 10/10 [00:05<00:00,  1.87file/s, successful=10, failed=0]\u001b[0m"
     ]
    },
    {
     "name": "stdout",
     "output_type": "stream",
     "text": [
      "[pyprocess] ✅ Returning concatenated array containing 70255 events\n"
     ]
    },
    {
     "name": "stderr",
     "output_type": "stream",
     "text": [
      "\n"
     ]
    }
   ],
   "source": [
    "processor = Processor(verbosity=1)\n",
    "\n",
    "# Define file list path and branches\n",
    "file_list_path = \"/exp/mu2e/data/users/sgrant/pyutils-test/filelists/local_file_list.txt\"\n",
    "branches = {\n",
    "    \"evt\" : [\"event\"],\n",
    "    \"trk\" : [\"trk.nactive\", \"trk.pdg\", \"trkqual.result\"],\n",
    "    \"trkfit\" : [\"trksegs\"]\n",
    "}\n",
    "\n",
    "# Process the files\n",
    "data = processor.process_data(\n",
    "    file_list_path=file_list_path,\n",
    "    branches=branches\n",
    ")"
   ]
  },
  {
   "cell_type": "markdown",
   "metadata": {},
   "source": [
    "## 3. Cut manager initialisation"
   ]
  },
  {
   "cell_type": "code",
   "execution_count": 4,
   "metadata": {},
   "outputs": [
    {
     "name": "stdout",
     "output_type": "stream",
     "text": [
      "[pycut] ✅ Initialised\n"
     ]
    }
   ],
   "source": [
    "cut_manager = CutManager(verbosity=verbosity)"
   ]
  },
  {
   "cell_type": "markdown",
   "metadata": {},
   "source": [
    "## 4. Cut definitions\n",
    "\n",
    "Define realistic Mu2e analysis cuts organised into logical groups:\n",
    "- **Preselect**: Basic track reconstruction requirements\n",
    "- **Reco**: Track quality and hit requirements\n",
    "- **Meas**: Physics measurement cuts (timing and momentum)\n",
    "\n",
    "> **Note**: Within `EventNtuple` all cuts must be defined on the same level of nesting, such as track-level."
   ]
  },
  {
   "cell_type": "markdown",
   "metadata": {},
   "source": [
    "### 4.1 Preselection cuts"
   ]
  },
  {
   "cell_type": "code",
   "execution_count": 5,
   "metadata": {},
   "outputs": [
    {
     "name": "stdout",
     "output_type": "stream",
     "text": [
      "[pycut_demo] ⭐️ Defining preselection cuts...\n",
      "[pyselect] ✅ Returning mask for trksegs with sid = 0\n",
      "[pycut] ⭐️ Added cut has_trk_front with index 0 in group 'Preselect'\n",
      "[pyselect] ✅ Returning mask for e- tracks\n",
      "[pycut] ⭐️ Added cut is_reco_electron with index 1 in group 'Preselect'\n",
      "[pyselect] ✅ Returning mask for downstream track segments (p_z > 0)\n",
      "[pycut] ⭐️ Added cut is_downstream with index 2 in group 'Preselect'\n"
     ]
    }
   ],
   "source": [
    "logger.log(\"Defining preselection cuts...\", \"info\")\n",
    "\n",
    "# Tracker entrance segments\n",
    "at_trk_front = selector.select_surface(data[\"trkfit\"], surface_name=\"TT_Front\") \n",
    "has_trk_front = ak.any(at_trk_front, axis=-1)\n",
    "\n",
    "cut_manager.add_cut(\n",
    "    name=\"has_trk_front\",\n",
    "    description=\"Segments at tracker entrance\",\n",
    "    mask=has_trk_front,\n",
    "    active=True,\n",
    "    group=\"Preselect\"\n",
    ")\n",
    "\n",
    "# Electron track fits\n",
    "is_reco_electron = selector.is_electron(data[\"trk\"])\n",
    "cut_manager.add_cut(\n",
    "    name=\"is_reco_electron\",\n",
    "    description=\"Electron track fits\",\n",
    "    mask=is_reco_electron,\n",
    "    active=True,\n",
    "    group=\"Preselect\"\n",
    ")\n",
    "\n",
    "# Downstream track requirement\n",
    "is_downstream = selector.is_downstream(data[\"trkfit\"]) \n",
    "is_downstream_track = ak.all(~at_trk_front | is_downstream, axis=-1) \n",
    "cut_manager.add_cut(\n",
    "    name=\"is_downstream\",\n",
    "    description=r\"Downstream tracks ($p_{z} > 0$)\",\n",
    "    mask=is_downstream_track,\n",
    "    active=True,\n",
    "    group=\"Preselect\"\n",
    ")"
   ]
  },
  {
   "cell_type": "markdown",
   "metadata": {},
   "source": [
    "### 4.2 Reconstruction cuts"
   ]
  },
  {
   "cell_type": "code",
   "execution_count": 6,
   "metadata": {},
   "outputs": [
    {
     "name": "stdout",
     "output_type": "stream",
     "text": [
      "[pycut_demo] ⭐️ Defining reconstruction cuts...\n",
      "[pyselect] ✅ Returning mask for trkqual > 0.2\n",
      "[pycut] ⭐️ Added cut good_trkqual with index 3 in group 'Reco'\n",
      "[pyselect] ✅ Returning mask for nactive > 20\n",
      "[pycut] ⭐️ Added cut has_hits with index 4 in group 'Reco'\n"
     ]
    }
   ],
   "source": [
    "logger.log(\"Defining reconstruction cuts...\", \"info\")\n",
    "\n",
    "# Track quality requirement\n",
    "good_trkqual = selector.select_trkqual(data[\"trk\"], 0.2)\n",
    "cut_manager.add_cut(\n",
    "    name=\"good_trkqual\",\n",
    "    description=\"Track quality > 0.2\",\n",
    "    mask=good_trkqual,\n",
    "    active=True,\n",
    "    group=\"Reco\"\n",
    ")\n",
    "\n",
    "# Sufficient hits requirement\n",
    "has_hits = selector.has_n_hits(data[\"trk\"], 20)\n",
    "cut_manager.add_cut(\n",
    "    name=\"has_hits\",\n",
    "    description=\"Active hits >= 20\", \n",
    "    mask=has_hits,\n",
    "    active=True,\n",
    "    group=\"Reco\"\n",
    ")"
   ]
  },
  {
   "cell_type": "markdown",
   "metadata": {},
   "source": [
    "### 4.3 Measurement cuts"
   ]
  },
  {
   "cell_type": "code",
   "execution_count": 7,
   "metadata": {},
   "outputs": [
    {
     "name": "stdout",
     "output_type": "stream",
     "text": [
      "[pycut_demo] ⭐️ Defining measurement cuts...\n",
      "[pycut] ⭐️ Added cut within_t0 with index 5 in group 'Meas'\n",
      "[pyvector] ✅ Created 3D 'mom' vector\n",
      "[pyvector] ✅ Got 'mom' magnitude\n",
      "[pycut] ⭐️ Added cut within_sig_win with index 6 in group 'Meas'\n"
     ]
    }
   ],
   "source": [
    "logger.log(\"Defining measurement cuts...\", \"info\")\n",
    "\n",
    "# Timing window (t0)\n",
    "within_t0 = ((640 < data[\"trkfit\"][\"trksegs\"][\"time\"]) & \n",
    "            (data[\"trkfit\"][\"trksegs\"][\"time\"] < 1650))\n",
    "within_t0_track = ak.all(~at_trk_front | within_t0, axis=-1) \n",
    "cut_manager.add_cut(\n",
    "    name=\"within_t0\",\n",
    "    description=\"t0 window (640 < t0 < 1650 ns)\",\n",
    "    mask=within_t0_track, \n",
    "    active=True,\n",
    "    group=\"Meas\"\n",
    ")\n",
    "\n",
    "# Momentum signal window\n",
    "mom = vector.get_mag(data[\"trkfit\"][\"trksegs\"], \"mom\") \n",
    "within_sig_win = ((mom > 103.6) & (mom < 104.9))\n",
    "within_sig_win_track = ak.all(~at_trk_front | within_sig_win, axis=-1)\n",
    "cut_manager.add_cut(\n",
    "    name=\"within_sig_win\",\n",
    "    description=\"Signal window (103.6 < p < 104.9 MeV/c)\", \n",
    "    mask=within_sig_win_track,\n",
    "    active=True,\n",
    "    group=\"Meas\"\n",
    ")"
   ]
  },
  {
   "cell_type": "markdown",
   "metadata": {},
   "source": [
    "## 5. Nominal cut flow\n",
    "\n",
    "Generate and display the nominal (full analysis) cut flow."
   ]
  },
  {
   "cell_type": "code",
   "execution_count": 8,
   "metadata": {},
   "outputs": [
    {
     "name": "stdout",
     "output_type": "stream",
     "text": [
      "[pycut_demo] ⭐️ Nominal cut flow:\n"
     ]
    },
    {
     "data": {
      "text/html": [
       "<div>\n",
       "<style scoped>\n",
       "    .dataframe tbody tr th:only-of-type {\n",
       "        vertical-align: middle;\n",
       "    }\n",
       "\n",
       "    .dataframe tbody tr th {\n",
       "        vertical-align: top;\n",
       "    }\n",
       "\n",
       "    .dataframe thead th {\n",
       "        text-align: right;\n",
       "    }\n",
       "</style>\n",
       "<table border=\"1\" class=\"dataframe\">\n",
       "  <thead>\n",
       "    <tr style=\"text-align: right;\">\n",
       "      <th></th>\n",
       "      <th>Cut</th>\n",
       "      <th>Group</th>\n",
       "      <th>Events Passing</th>\n",
       "      <th>Absolute [%]</th>\n",
       "      <th>Relative [%]</th>\n",
       "      <th>Description</th>\n",
       "    </tr>\n",
       "  </thead>\n",
       "  <tbody>\n",
       "    <tr>\n",
       "      <th>0</th>\n",
       "      <td>No cuts</td>\n",
       "      <td>N/A</td>\n",
       "      <td>70255</td>\n",
       "      <td>100.00</td>\n",
       "      <td>100.00</td>\n",
       "      <td>No selection applied</td>\n",
       "    </tr>\n",
       "    <tr>\n",
       "      <th>1</th>\n",
       "      <td>has_trk_front</td>\n",
       "      <td>Preselect</td>\n",
       "      <td>70002</td>\n",
       "      <td>99.64</td>\n",
       "      <td>99.64</td>\n",
       "      <td>Segments at tracker entrance</td>\n",
       "    </tr>\n",
       "    <tr>\n",
       "      <th>2</th>\n",
       "      <td>is_reco_electron</td>\n",
       "      <td>Preselect</td>\n",
       "      <td>64069</td>\n",
       "      <td>91.19</td>\n",
       "      <td>91.52</td>\n",
       "      <td>Electron track fits</td>\n",
       "    </tr>\n",
       "    <tr>\n",
       "      <th>3</th>\n",
       "      <td>is_downstream</td>\n",
       "      <td>Preselect</td>\n",
       "      <td>39788</td>\n",
       "      <td>56.63</td>\n",
       "      <td>62.10</td>\n",
       "      <td>Downstream tracks ($p_{z} &gt; 0$)</td>\n",
       "    </tr>\n",
       "    <tr>\n",
       "      <th>4</th>\n",
       "      <td>good_trkqual</td>\n",
       "      <td>Reco</td>\n",
       "      <td>18229</td>\n",
       "      <td>25.95</td>\n",
       "      <td>45.82</td>\n",
       "      <td>Track quality &gt; 0.2</td>\n",
       "    </tr>\n",
       "    <tr>\n",
       "      <th>5</th>\n",
       "      <td>has_hits</td>\n",
       "      <td>Reco</td>\n",
       "      <td>18149</td>\n",
       "      <td>25.83</td>\n",
       "      <td>99.56</td>\n",
       "      <td>Active hits &gt;= 20</td>\n",
       "    </tr>\n",
       "    <tr>\n",
       "      <th>6</th>\n",
       "      <td>within_t0</td>\n",
       "      <td>Meas</td>\n",
       "      <td>177</td>\n",
       "      <td>0.25</td>\n",
       "      <td>0.98</td>\n",
       "      <td>t0 window (640 &lt; t0 &lt; 1650 ns)</td>\n",
       "    </tr>\n",
       "    <tr>\n",
       "      <th>7</th>\n",
       "      <td>within_sig_win</td>\n",
       "      <td>Meas</td>\n",
       "      <td>1</td>\n",
       "      <td>0.00</td>\n",
       "      <td>0.56</td>\n",
       "      <td>Signal window (103.6 &lt; p &lt; 104.9 MeV/c)</td>\n",
       "    </tr>\n",
       "  </tbody>\n",
       "</table>\n",
       "</div>"
      ],
      "text/plain": [
       "                Cut      Group  Events Passing  Absolute [%]  Relative [%]  \\\n",
       "0           No cuts        N/A           70255        100.00        100.00   \n",
       "1     has_trk_front  Preselect           70002         99.64         99.64   \n",
       "2  is_reco_electron  Preselect           64069         91.19         91.52   \n",
       "3     is_downstream  Preselect           39788         56.63         62.10   \n",
       "4      good_trkqual       Reco           18229         25.95         45.82   \n",
       "5          has_hits       Reco           18149         25.83         99.56   \n",
       "6         within_t0       Meas             177          0.25          0.98   \n",
       "7    within_sig_win       Meas               1          0.00          0.56   \n",
       "\n",
       "                               Description  \n",
       "0                     No selection applied  \n",
       "1             Segments at tracker entrance  \n",
       "2                      Electron track fits  \n",
       "3          Downstream tracks ($p_{z} > 0$)  \n",
       "4                      Track quality > 0.2  \n",
       "5                        Active hits >= 20  \n",
       "6           t0 window (640 < t0 < 1650 ns)  \n",
       "7  Signal window (103.6 < p < 104.9 MeV/c)  "
      ]
     },
     "metadata": {},
     "output_type": "display_data"
    },
    {
     "name": "stdout",
     "output_type": "stream",
     "text": [
      "[pycut] ⭐️ Saved current cut states as 'nominal_cuts'\n"
     ]
    }
   ],
   "source": [
    "# Generate and display cut flow\n",
    "nominal_cut_flow = cut_manager.create_cut_flow(data)\n",
    "nominal_df = cut_manager.format_cut_flow(nominal_cut_flow)\n",
    "\n",
    "logger.log(\"Nominal cut flow:\", \"info\")\n",
    "display(nominal_df)\n",
    "\n",
    "# Save nominal state\n",
    "cut_manager.save_state(\"nominal_cuts\")"
   ]
  },
  {
   "cell_type": "markdown",
   "metadata": {},
   "source": [
    "## 6. Loose cut flow\n",
    "\n",
    "Create a loose cuts configuration by removing the measurement requirements while keeping reconstruction quality cuts."
   ]
  },
  {
   "cell_type": "code",
   "execution_count": 9,
   "metadata": {},
   "outputs": [
    {
     "name": "stdout",
     "output_type": "stream",
     "text": [
      "[pycut_demo] ⭐️ Creating loose cuts configuration...\n",
      "[pycut] ⭐️ Successfully deactivated cut(s): ['within_t0', 'within_sig_win']\n",
      "[pycut_demo] ⭐️ Loose cuts flow:\n"
     ]
    },
    {
     "data": {
      "text/html": [
       "<div>\n",
       "<style scoped>\n",
       "    .dataframe tbody tr th:only-of-type {\n",
       "        vertical-align: middle;\n",
       "    }\n",
       "\n",
       "    .dataframe tbody tr th {\n",
       "        vertical-align: top;\n",
       "    }\n",
       "\n",
       "    .dataframe thead th {\n",
       "        text-align: right;\n",
       "    }\n",
       "</style>\n",
       "<table border=\"1\" class=\"dataframe\">\n",
       "  <thead>\n",
       "    <tr style=\"text-align: right;\">\n",
       "      <th></th>\n",
       "      <th>Cut</th>\n",
       "      <th>Group</th>\n",
       "      <th>Events Passing</th>\n",
       "      <th>Absolute [%]</th>\n",
       "      <th>Relative [%]</th>\n",
       "      <th>Description</th>\n",
       "    </tr>\n",
       "  </thead>\n",
       "  <tbody>\n",
       "    <tr>\n",
       "      <th>0</th>\n",
       "      <td>No cuts</td>\n",
       "      <td>N/A</td>\n",
       "      <td>70255</td>\n",
       "      <td>100.00</td>\n",
       "      <td>100.00</td>\n",
       "      <td>No selection applied</td>\n",
       "    </tr>\n",
       "    <tr>\n",
       "      <th>1</th>\n",
       "      <td>has_trk_front</td>\n",
       "      <td>Preselect</td>\n",
       "      <td>70002</td>\n",
       "      <td>99.64</td>\n",
       "      <td>99.64</td>\n",
       "      <td>Segments at tracker entrance</td>\n",
       "    </tr>\n",
       "    <tr>\n",
       "      <th>2</th>\n",
       "      <td>is_reco_electron</td>\n",
       "      <td>Preselect</td>\n",
       "      <td>64069</td>\n",
       "      <td>91.19</td>\n",
       "      <td>91.52</td>\n",
       "      <td>Electron track fits</td>\n",
       "    </tr>\n",
       "    <tr>\n",
       "      <th>3</th>\n",
       "      <td>is_downstream</td>\n",
       "      <td>Preselect</td>\n",
       "      <td>39788</td>\n",
       "      <td>56.63</td>\n",
       "      <td>62.10</td>\n",
       "      <td>Downstream tracks ($p_{z} &gt; 0$)</td>\n",
       "    </tr>\n",
       "    <tr>\n",
       "      <th>4</th>\n",
       "      <td>good_trkqual</td>\n",
       "      <td>Reco</td>\n",
       "      <td>18229</td>\n",
       "      <td>25.95</td>\n",
       "      <td>45.82</td>\n",
       "      <td>Track quality &gt; 0.2</td>\n",
       "    </tr>\n",
       "    <tr>\n",
       "      <th>5</th>\n",
       "      <td>has_hits</td>\n",
       "      <td>Reco</td>\n",
       "      <td>18149</td>\n",
       "      <td>25.83</td>\n",
       "      <td>99.56</td>\n",
       "      <td>Active hits &gt;= 20</td>\n",
       "    </tr>\n",
       "  </tbody>\n",
       "</table>\n",
       "</div>"
      ],
      "text/plain": [
       "                Cut      Group  Events Passing  Absolute [%]  Relative [%]  \\\n",
       "0           No cuts        N/A           70255        100.00        100.00   \n",
       "1     has_trk_front  Preselect           70002         99.64         99.64   \n",
       "2  is_reco_electron  Preselect           64069         91.19         91.52   \n",
       "3     is_downstream  Preselect           39788         56.63         62.10   \n",
       "4      good_trkqual       Reco           18229         25.95         45.82   \n",
       "5          has_hits       Reco           18149         25.83         99.56   \n",
       "\n",
       "                       Description  \n",
       "0             No selection applied  \n",
       "1     Segments at tracker entrance  \n",
       "2              Electron track fits  \n",
       "3  Downstream tracks ($p_{z} > 0$)  \n",
       "4              Track quality > 0.2  \n",
       "5                Active hits >= 20  "
      ]
     },
     "metadata": {},
     "output_type": "display_data"
    },
    {
     "name": "stdout",
     "output_type": "stream",
     "text": [
      "[pycut] ⭐️ Saved current cut states as 'loose_cuts'\n"
     ]
    }
   ],
   "source": [
    "logger.log(\"Creating loose cuts configuration...\", \"info\")\n",
    "\n",
    "# Remove timing and momentum windows for loose selection\n",
    "cut_manager.toggle_cut({\n",
    "    \"within_t0\": False,      # Remove t0 window\n",
    "    \"within_sig_win\": False  # Remove momentum window\n",
    "})\n",
    "\n",
    "# Generate loose cut flow\n",
    "loose_cut_flow = cut_manager.create_cut_flow(data)\n",
    "loose_df = cut_manager.format_cut_flow(loose_cut_flow)\n",
    "\n",
    "logger.log(\"Loose cuts flow:\", \"info\")\n",
    "display(loose_df)\n",
    "\n",
    "# Save loose cuts state\n",
    "cut_manager.save_state(\"loose_cuts\")"
   ]
  },
  {
   "cell_type": "markdown",
   "metadata": {},
   "source": [
    "## 7. Preselection-only cut flow\n",
    "\n",
    "Create a very loose configuration with only basic preselection cuts active."
   ]
  },
  {
   "cell_type": "code",
   "execution_count": 10,
   "metadata": {},
   "outputs": [
    {
     "name": "stdout",
     "output_type": "stream",
     "text": [
      "[pycut_demo] ⭐️ Creating preselection-only configuration...\n",
      "[pycut] ✅ Restored 7 cuts from state 'nominal_cuts'\n",
      "[pycut] ⭐️ Successfully deactivated group(s): ['Reco (2 cuts)', 'Meas (2 cuts)']\n",
      "[pycut_demo] ⭐️ Preselection-only cut flow:\n"
     ]
    },
    {
     "data": {
      "text/html": [
       "<div>\n",
       "<style scoped>\n",
       "    .dataframe tbody tr th:only-of-type {\n",
       "        vertical-align: middle;\n",
       "    }\n",
       "\n",
       "    .dataframe tbody tr th {\n",
       "        vertical-align: top;\n",
       "    }\n",
       "\n",
       "    .dataframe thead th {\n",
       "        text-align: right;\n",
       "    }\n",
       "</style>\n",
       "<table border=\"1\" class=\"dataframe\">\n",
       "  <thead>\n",
       "    <tr style=\"text-align: right;\">\n",
       "      <th></th>\n",
       "      <th>Cut</th>\n",
       "      <th>Group</th>\n",
       "      <th>Events Passing</th>\n",
       "      <th>Absolute [%]</th>\n",
       "      <th>Relative [%]</th>\n",
       "      <th>Description</th>\n",
       "    </tr>\n",
       "  </thead>\n",
       "  <tbody>\n",
       "    <tr>\n",
       "      <th>0</th>\n",
       "      <td>No cuts</td>\n",
       "      <td>N/A</td>\n",
       "      <td>70255</td>\n",
       "      <td>100.00</td>\n",
       "      <td>100.00</td>\n",
       "      <td>No selection applied</td>\n",
       "    </tr>\n",
       "    <tr>\n",
       "      <th>1</th>\n",
       "      <td>has_trk_front</td>\n",
       "      <td>Preselect</td>\n",
       "      <td>70002</td>\n",
       "      <td>99.64</td>\n",
       "      <td>99.64</td>\n",
       "      <td>Segments at tracker entrance</td>\n",
       "    </tr>\n",
       "    <tr>\n",
       "      <th>2</th>\n",
       "      <td>is_reco_electron</td>\n",
       "      <td>Preselect</td>\n",
       "      <td>64069</td>\n",
       "      <td>91.19</td>\n",
       "      <td>91.52</td>\n",
       "      <td>Electron track fits</td>\n",
       "    </tr>\n",
       "    <tr>\n",
       "      <th>3</th>\n",
       "      <td>is_downstream</td>\n",
       "      <td>Preselect</td>\n",
       "      <td>39788</td>\n",
       "      <td>56.63</td>\n",
       "      <td>62.10</td>\n",
       "      <td>Downstream tracks ($p_{z} &gt; 0$)</td>\n",
       "    </tr>\n",
       "  </tbody>\n",
       "</table>\n",
       "</div>"
      ],
      "text/plain": [
       "                Cut      Group  Events Passing  Absolute [%]  Relative [%]  \\\n",
       "0           No cuts        N/A           70255        100.00        100.00   \n",
       "1     has_trk_front  Preselect           70002         99.64         99.64   \n",
       "2  is_reco_electron  Preselect           64069         91.19         91.52   \n",
       "3     is_downstream  Preselect           39788         56.63         62.10   \n",
       "\n",
       "                       Description  \n",
       "0             No selection applied  \n",
       "1     Segments at tracker entrance  \n",
       "2              Electron track fits  \n",
       "3  Downstream tracks ($p_{z} > 0$)  "
      ]
     },
     "metadata": {},
     "output_type": "display_data"
    },
    {
     "name": "stdout",
     "output_type": "stream",
     "text": [
      "[pycut] ⭐️ Saved current cut states as 'preselection_cuts'\n"
     ]
    }
   ],
   "source": [
    "logger.log(\"Creating preselection-only configuration...\", \"info\")\n",
    "\n",
    "# Restore to nominal cuts first\n",
    "cut_manager.restore_state(\"nominal_cuts\")\n",
    "\n",
    "# Deactivate reconstruction and measurement cuts\n",
    "cut_manager.toggle_group({\n",
    "    \"Reco\": False,     # Deactivate reconstruction cuts\n",
    "    \"Meas\": False      # Deactivate measurement cuts\n",
    "})\n",
    "\n",
    "# Generate preselection-only cut flow\n",
    "presel_cut_flow = cut_manager.create_cut_flow(data)\n",
    "presel_df = cut_manager.format_cut_flow(presel_cut_flow)\n",
    "\n",
    "logger.log(\"Preselection-only cut flow:\", \"info\")\n",
    "display(presel_df)\n",
    "\n",
    "# Save preselection cuts state\n",
    "cut_manager.save_state(\"preselection_cuts\")"
   ]
  },
  {
   "cell_type": "markdown",
   "metadata": {},
   "source": [
    "## 8. Cut flow comparison\n",
    "\n",
    "Apply different cut configurations and create momentum distributions for comparison."
   ]
  },
  {
   "cell_type": "code",
   "execution_count": 11,
   "metadata": {},
   "outputs": [
    {
     "name": "stdout",
     "output_type": "stream",
     "text": [
      "[pycut_demo] ⭐️ Applying cuts and extracting momentum distributions...\n",
      "[pycut] ✅ Restored 7 cuts from state 'preselection_cuts'\n",
      "[pycut_demo] ⭐️ Preselection: 45977 track segments\n",
      "[pycut] ✅ Restored 7 cuts from state 'loose_cuts'\n",
      "[pycut_demo] ⭐️ Loose cuts: 18392 track segments\n",
      "[pycut] ✅ Restored 7 cuts from state 'nominal_cuts'\n",
      "[pycut_demo] ⭐️ Nominal cuts: 1 track segments\n"
     ]
    }
   ],
   "source": [
    "# Reinitialise selector and vector with low verbosity for cleaner output\n",
    "vector = Vector(verbosity=0)\n",
    "selector = Select(verbosity=0)\n",
    "\n",
    "logger.log(\"Applying cuts and extracting momentum distributions...\", \"info\")\n",
    "\n",
    "# Define cut configurations to compare\n",
    "cut_configs = {\n",
    "   \"Preselection\": \"preselection_cuts\",\n",
    "   \"Loose cuts\": \"loose_cuts\",\n",
    "   \"Nominal cuts\": \"nominal_cuts\"\n",
    "}\n",
    "\n",
    "mom_cut = {}\n",
    "\n",
    "for config_name, state_name in cut_configs.items():\n",
    "    # Restore cut state\n",
    "    cut_manager.restore_state(state_name)\n",
    "    \n",
    "    # Get the combined cut mask\n",
    "    trk_mask = cut_manager.combine_cuts(active_only=True)\n",
    "    \n",
    "    # Apply mask to tracks and track segments \n",
    "    filtered_data = ak.copy(data)\n",
    "    filtered_data[\"trk\"] = filtered_data[\"trk\"][trk_mask]\n",
    "    filtered_data[\"trkfit\"] = filtered_data[\"trkfit\"][trk_mask]\n",
    "    \n",
    "    # Clean up events with no tracks after cuts \n",
    "    evt_mask = ak.any(trk_mask, axis=-1)\n",
    "    filtered_data = filtered_data[evt_mask]\n",
    "    \n",
    "    # Get momentum for selected events\n",
    "    mom_mag = vector.get_mag(filtered_data[\"trkfit\"][\"trksegs\"], \"mom\")\n",
    "    at_trk_front = selector.select_surface(filtered_data[\"trkfit\"], surface_name=\"TT_Front\")\n",
    "    mom_at_trk_front = mom_mag[at_trk_front]\n",
    "    flat_mom_at_trk_front = ak.flatten(mom_at_trk_front)\n",
    "\n",
    "    # Store momentum distribution\n",
    "    mom_cut[config_name] = flat_mom_at_trk_front\n",
    "       \n",
    "    logger.log(f\"{config_name}: {len(flat_mom_at_trk_front)} track segments\", \"info\")"
   ]
  },
  {
   "cell_type": "markdown",
   "metadata": {},
   "source": [
    "## 9. Visualisation"
   ]
  },
  {
   "cell_type": "code",
   "execution_count": 12,
   "metadata": {},
   "outputs": [
    {
     "name": "stdout",
     "output_type": "stream",
     "text": [
      "[pyplot] ⭐️ Initialised Plot with mu2e.mplstyle and verbosity = 1\n",
      "[pyplot] ✅ Wrote:\n",
      "\tmomentum_cut_comparison.png\n"
     ]
    },
    {
     "data": {
      "image/png": "[encoded data removed]",
      "text/plain": [
       "<Figure size 640x480 with 1 Axes>"
      ]
     },
     "metadata": {},
     "output_type": "display_data"
    }
   ],
   "source": [
    "plotter = Plot(verbosity=1)\n",
    "\n",
    "plotter.plot_1D_overlay(\n",
    "    mom_cut,\n",
    "    nbins=100, \n",
    "    xmin=0,\n",
    "    xmax=500,\n",
    "    log_y=True,\n",
    "    xlabel=\"Momentum [MeV/c]\",\n",
    "    ylabel=\"Events\",\n",
    "    out_path=\"momentum_cut_comparison.png\"\n",
    ")"
   ]
  },
  {
   "cell_type": "markdown",
   "metadata": {},
   "source": [
    "## 10. Write cut flow to file\n",
    "\n",
    "Cut flows are formatted as `pandas` DataFrames, making them easy to save for documentation or further analysis."
   ]
  },
  {
   "cell_type": "code",
   "execution_count": 13,
   "metadata": {},
   "outputs": [
    {
     "name": "stdout",
     "output_type": "stream",
     "text": [
      "[pycut_demo] ⭐️ Saving cut flow to file...\n",
      "[pycut_demo] ✅ Wrote nominal_cut_flow.csv\n"
     ]
    }
   ],
   "source": [
    "logger.log(\"Saving cut flow to file...\", \"info\")\n",
    "\n",
    "out_path = \"nominal_cut_flow.csv\"\n",
    "nominal_df.to_csv(out_path, index=False)\n",
    "logger.log(f\"Wrote {out_path}\", \"success\")"
   ]
  },
  {
   "cell_type": "markdown",
   "metadata": {},
   "source": [
    "## 11. State management summary\n",
    "\n",
    "Demonstrate the state management capabilities of the cut manager."
   ]
  },
  {
   "cell_type": "code",
   "execution_count": 14,
   "metadata": {},
   "outputs": [
    {
     "name": "stdout",
     "output_type": "stream",
     "text": [
      "[pycut_demo] ⭐️ State management summary:\n",
      "[pycut] ⭐️ Available saved states: ['nominal_cuts', 'loose_cuts', 'preselection_cuts']\n",
      "[pycut_demo] ⭐️ Available saved states: ['nominal_cuts', 'loose_cuts', 'preselection_cuts']\n",
      "[pycut] ✅ Restored 7 cuts to original states\n",
      "[pycut_demo] ⭐️ Restored to original configuration:\n"
     ]
    },
    {
     "data": {
      "text/html": [
       "<div>\n",
       "<style scoped>\n",
       "    .dataframe tbody tr th:only-of-type {\n",
       "        vertical-align: middle;\n",
       "    }\n",
       "\n",
       "    .dataframe tbody tr th {\n",
       "        vertical-align: top;\n",
       "    }\n",
       "\n",
       "    .dataframe thead th {\n",
       "        text-align: right;\n",
       "    }\n",
       "</style>\n",
       "<table border=\"1\" class=\"dataframe\">\n",
       "  <thead>\n",
       "    <tr style=\"text-align: right;\">\n",
       "      <th></th>\n",
       "      <th>Cut</th>\n",
       "      <th>Group</th>\n",
       "      <th>Events Passing</th>\n",
       "      <th>Absolute [%]</th>\n",
       "      <th>Relative [%]</th>\n",
       "      <th>Description</th>\n",
       "    </tr>\n",
       "  </thead>\n",
       "  <tbody>\n",
       "    <tr>\n",
       "      <th>0</th>\n",
       "      <td>No cuts</td>\n",
       "      <td>N/A</td>\n",
       "      <td>70255</td>\n",
       "      <td>100.00</td>\n",
       "      <td>100.00</td>\n",
       "      <td>No selection applied</td>\n",
       "    </tr>\n",
       "    <tr>\n",
       "      <th>1</th>\n",
       "      <td>has_trk_front</td>\n",
       "      <td>Preselect</td>\n",
       "      <td>70002</td>\n",
       "      <td>99.64</td>\n",
       "      <td>99.64</td>\n",
       "      <td>Segments at tracker entrance</td>\n",
       "    </tr>\n",
       "    <tr>\n",
       "      <th>2</th>\n",
       "      <td>is_reco_electron</td>\n",
       "      <td>Preselect</td>\n",
       "      <td>64069</td>\n",
       "      <td>91.19</td>\n",
       "      <td>91.52</td>\n",
       "      <td>Electron track fits</td>\n",
       "    </tr>\n",
       "    <tr>\n",
       "      <th>3</th>\n",
       "      <td>is_downstream</td>\n",
       "      <td>Preselect</td>\n",
       "      <td>39788</td>\n",
       "      <td>56.63</td>\n",
       "      <td>62.10</td>\n",
       "      <td>Downstream tracks ($p_{z} &gt; 0$)</td>\n",
       "    </tr>\n",
       "    <tr>\n",
       "      <th>4</th>\n",
       "      <td>good_trkqual</td>\n",
       "      <td>Reco</td>\n",
       "      <td>18229</td>\n",
       "      <td>25.95</td>\n",
       "      <td>45.82</td>\n",
       "      <td>Track quality &gt; 0.2</td>\n",
       "    </tr>\n",
       "    <tr>\n",
       "      <th>5</th>\n",
       "      <td>has_hits</td>\n",
       "      <td>Reco</td>\n",
       "      <td>18149</td>\n",
       "      <td>25.83</td>\n",
       "      <td>99.56</td>\n",
       "      <td>Active hits &gt;= 20</td>\n",
       "    </tr>\n",
       "    <tr>\n",
       "      <th>6</th>\n",
       "      <td>within_t0</td>\n",
       "      <td>Meas</td>\n",
       "      <td>177</td>\n",
       "      <td>0.25</td>\n",
       "      <td>0.98</td>\n",
       "      <td>t0 window (640 &lt; t0 &lt; 1650 ns)</td>\n",
       "    </tr>\n",
       "    <tr>\n",
       "      <th>7</th>\n",
       "      <td>within_sig_win</td>\n",
       "      <td>Meas</td>\n",
       "      <td>1</td>\n",
       "      <td>0.00</td>\n",
       "      <td>0.56</td>\n",
       "      <td>Signal window (103.6 &lt; p &lt; 104.9 MeV/c)</td>\n",
       "    </tr>\n",
       "  </tbody>\n",
       "</table>\n",
       "</div>"
      ],
      "text/plain": [
       "                Cut      Group  Events Passing  Absolute [%]  Relative [%]  \\\n",
       "0           No cuts        N/A           70255        100.00        100.00   \n",
       "1     has_trk_front  Preselect           70002         99.64         99.64   \n",
       "2  is_reco_electron  Preselect           64069         91.19         91.52   \n",
       "3     is_downstream  Preselect           39788         56.63         62.10   \n",
       "4      good_trkqual       Reco           18229         25.95         45.82   \n",
       "5          has_hits       Reco           18149         25.83         99.56   \n",
       "6         within_t0       Meas             177          0.25          0.98   \n",
       "7    within_sig_win       Meas               1          0.00          0.56   \n",
       "\n",
       "                               Description  \n",
       "0                     No selection applied  \n",
       "1             Segments at tracker entrance  \n",
       "2                      Electron track fits  \n",
       "3          Downstream tracks ($p_{z} > 0$)  \n",
       "4                      Track quality > 0.2  \n",
       "5                        Active hits >= 20  \n",
       "6           t0 window (640 < t0 < 1650 ns)  \n",
       "7  Signal window (103.6 < p < 104.9 MeV/c)  "
      ]
     },
     "metadata": {},
     "output_type": "display_data"
    }
   ],
   "source": [
    "logger.log(\"State management summary:\", \"info\")\n",
    "\n",
    "# List all saved states\n",
    "saved_states = cut_manager.list_saved_states()\n",
    "logger.log(f\"Available saved states: {saved_states}\", \"info\")\n",
    "\n",
    "# Demonstrate restoration to original state\n",
    "cut_manager.restore_original_state()\n",
    "original_cut_flow = cut_manager.create_cut_flow(data)\n",
    "original_df = cut_manager.format_cut_flow(original_cut_flow)\n",
    "\n",
    "logger.log(\"Restored to original configuration:\", \"info\")\n",
    "display(original_df)"
   ]
  },
  {
   "cell_type": "markdown",
   "metadata": {},
   "source": [
    "## Summary\n",
    "\n",
    "This notebook demonstrated the key features of the `pycut` module:\n",
    "\n",
    "1. **Cut definition**: Organised cuts into logical groups (Preselect, Reco, Meas)\n",
    "2. **Cut flow analysis**: Generated detailed cut flow tables showing event retention\n",
    "3. **Configuration management**: Compared nominal, loose, and preselection-only configurations\n",
    "4. **State management**: Saved and restored different cut configurations\n",
    "5. **Event selection**: Applied cuts to data for physics analysis\n",
    "6. **Visualisation**: Created momentum distribution comparisons\n",
    "7. **Documentation**: Exported cut flows to CSV for records\n",
    "\n",
    "The `pycut` module provides a flexible framework for managing complex analysis cut flows. "
   ]
  },
  {
   "cell_type": "code",
   "execution_count": null,
   "metadata": {},
   "outputs": [],
   "source": []
  }
 ],
 "metadata": {
  "kernelspec": {
   "display_name": "mu2e_env [conda env:.conda-ana_v2.2.0]",
   "language": "python",
   "name": "conda-env-.conda-ana_v2.2.0-py"
  },
  "language_info": {
   "codemirror_mode": {
    "name": "ipython",
    "version": 3
   },
   "file_extension": ".py",
   "mimetype": "text/x-python",
   "name": "python",
   "nbconvert_exporter": "python",
   "pygments_lexer": "ipython3",
   "version": "3.12.7"
  }
 },
 "nbformat": 4,
 "nbformat_minor": 4
}
