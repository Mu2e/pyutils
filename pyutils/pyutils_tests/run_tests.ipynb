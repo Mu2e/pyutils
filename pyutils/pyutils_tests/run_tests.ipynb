{
 "cells": [
  {
   "cell_type": "markdown",
   "id": "86f79a04-a70b-4e2e-a0ab-820e57be0534",
   "metadata": {},
   "source": [
    "## Tests for pyutils classes"
   ]
  },
  {
   "cell_type": "code",
   "execution_count": 1,
   "id": "9ef64825-e1ac-4157-b67f-744d1566f38a",
   "metadata": {},
   "outputs": [
    {
     "name": "stdout",
     "output_type": "stream",
     "text": [
      "[pytest] ✅ Initialised\n"
     ]
    }
   ],
   "source": [
    "from pytest import Tester\n",
    "tester = Tester()"
   ]
  },
  {
   "cell_type": "code",
   "execution_count": 2,
   "id": "7d033e32-b0ac-4b33-8d83-b496f2b3ac76",
   "metadata": {},
   "outputs": [
    {
     "name": "stdout",
     "output_type": "stream",
     "text": [
      "[pytest] 🧪 ************ Testing pyimport ************\n",
      "[pytest] ⭐️ Testing pyimport:Importer\n",
      "[pytest] 🧪 Running test: pyimport:Importer:import_branches (local, single branch)\n",
      "[pyread] ✅ Opened /exp/mu2e/data/users/sgrant/pyutils-test/TestFiles/nts.mu2e.CeEndpointOnSpillTriggered.MDC2020aq_best_v1_3_v06_03_00.001210_00000699.root\n",
      "[pyimport] ✅ Imported branches\n",
      "[pyimport] 👀 Array structure:\n",
      "1471 * {\n",
      "    event: int32\n",
      "}\n",
      "[pytest] ✅ PASSED: pyimport:Importer:import_branches (local, single branch)\n",
      "[pytest] 🧪 Running test: pyimport:Importer:import_branches (local, single WB file, single branch)\n",
      "[pyread] ✅ Opened /exp/mu2e/data/users/sgrant/pyutils-test/TestFiles/rec.mu2e.CRV_wideband_cosmics.CRVWB-000-012-000.000105_001.root\n",
      "[pyimport] ✅ Imported branches\n",
      "[pyimport] 👀 Array structure:\n",
      "128776 * {\n",
      "    runNumber: int32\n",
      "}\n",
      "[pytest] ✅ PASSED: pyimport:Importer:import_branches (local, single WB file, single branch)\n",
      "[pytest] 🧪 Running test: pyimport:Importer:import_branches (local, single file, special branches)\n",
      "[pyread] ✅ Opened /exp/mu2e/data/users/sgrant/pyutils-test/TestFiles/nts.mu2e.CeEndpointOnSpillTriggered.MDC2020aq_best_v1_3_v06_03_00.001210_00000699.root\n",
      "[pyimport] ✅ Imported branches\n",
      "[pyimport] 👀 Array structure:\n",
      "1471 * {\n",
      "    \"crvcoincs.PEsPerLayer[4]\": var * 4 * float32,\n",
      "    \"crvcoincs.sidePEsPerLayer[8]\": var * 8 * float32\n",
      "}\n",
      "[pytest] ✅ PASSED: pyimport:Importer:import_branches (local, single file, special branches)\n",
      "[pytest] 🧪 Running test: pyimport:Importer:import_branches (remote, single branch)\n",
      "[pyutils] ⭐️ Setting up...\n",
      "[pyutils] ✅ Ready\n",
      "[pyread] ⭐️ Opening remote file: /exp/mu2e/data/users/sgrant/pyutils-test/TestFiles/nts.mu2e.CeEndpointOnSpillTriggered.MDC2020aq_best_v1_3_v06_03_00.001210_00000699.root\n",
      "[pyread] ⭐️ Created file path: root://fndcadoor.fnal.gov:1094/mu2e/tape/phy-nts/nts/mu2e/CeEndpointOnSpillTriggered/MDC2020aq_best_v1_3_v06_03_00/root/cb/5a/nts.mu2e.CeEndpointOnSpillTriggered.MDC2020aq_best_v1_3_v06_03_00.001210_00000699.root\n",
      "[pyread] ✅ Opened root://fndcadoor.fnal.gov:1094/mu2e/tape/phy-nts/nts/mu2e/CeEndpointOnSpillTriggered/MDC2020aq_best_v1_3_v06_03_00/root/cb/5a/nts.mu2e.CeEndpointOnSpillTriggered.MDC2020aq_best_v1_3_v06_03_00.001210_00000699.root\n",
      "[pyimport] ✅ Imported branches\n",
      "[pyimport] 👀 Array structure:\n",
      "1471 * {\n",
      "    event: int32\n",
      "}\n",
      "[pytest] ✅ PASSED: pyimport:Importer:import_branches (remote, single branch)\n",
      "[pytest] 🧪 Running test: pyimport:Importer:import_branches (local, grouped branches)\n",
      "[pyread] ✅ Opened /exp/mu2e/data/users/sgrant/pyutils-test/TestFiles/nts.mu2e.CeEndpointOnSpillTriggered.MDC2020aq_best_v1_3_v06_03_00.001210_00000699.root\n",
      "[pyimport] ✅ Imported branches\n",
      "[pyimport] 👀 Array structure:\n",
      "1471 * {\n",
      "    evt: {\n",
      "        event: int32\n",
      "    },\n",
      "    crv: {\n",
      "        \"crvcoincs.PEs\": var * float32,\n",
      "        \"crvcoincs.nHits\": var * int32\n",
      "    }\n",
      "}\n",
      "[pytest] ✅ PASSED: pyimport:Importer:import_branches (local, grouped branches)\n",
      "[pytest] 🧪 Running test: pyimport:Importer:import_branches (local, all branches)\n",
      "[pyread] ✅ Opened /exp/mu2e/data/users/sgrant/pyutils-test/TestFiles/nts.mu2e.CeEndpointOnSpillTriggered.MDC2020aq_best_v1_3_v06_03_00.001210_00000699.root\n",
      "[pyimport] ⭐️ Importing all branches\n",
      "[pyimport] ✅ Imported branches\n",
      "[pytest] ✅ PASSED: pyimport:Importer:import_branches (local, all branches)\n",
      "[pytest] 🧪 \n",
      "                ==================================================\n",
      "                TEST SUMMARY\n",
      "                ==================================================\n",
      "                Total tests run: 6\n",
      "                Passed: 6\n",
      "                Failed: 0\n",
      "                \n",
      "                🎉 All tests passed!\n"
     ]
    },
    {
     "data": {
      "text/plain": [
       "True"
      ]
     },
     "execution_count": 2,
     "metadata": {},
     "output_type": "execute_result"
    }
   ],
   "source": [
    "tester.run(\n",
    "    test_reader=True,\n",
    "    test_importer=True,\n",
    "    test_processor=True,\n",
    "    test_select=True,\n",
    "    test_print=True,\n",
    "    test_vector=True,\n",
    "    test_plot=True\n",
    ")"
   ]
  },
  {
   "cell_type": "code",
   "execution_count": null,
   "id": "0d6f6cd5-2b4e-4dc7-9126-1ede07188546",
   "metadata": {},
   "outputs": [],
   "source": []
  }
 ],
 "metadata": {
  "kernelspec": {
   "display_name": "mu2e_env [conda env:.conda-ana_v2.1.0]",
   "language": "python",
   "name": "conda-env-.conda-ana_v2.1.0-ana_v2.1.0"
  },
  "language_info": {
   "codemirror_mode": {
    "name": "ipython",
    "version": 3
   },
   "file_extension": ".py",
   "mimetype": "text/x-python",
   "name": "python",
   "nbconvert_exporter": "python",
   "pygments_lexer": "ipython3",
   "version": "3.12.7"
  }
 },
 "nbformat": 4,
 "nbformat_minor": 5
}
