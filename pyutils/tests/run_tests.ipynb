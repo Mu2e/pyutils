{
 "cells": [
  {
   "cell_type": "markdown",
   "id": "86f79a04-a70b-4e2e-a0ab-820e57be0534",
   "metadata": {},
   "source": [
    "## Tests for pyutils classes"
   ]
  },
  {
   "cell_type": "code",
   "execution_count": 1,
   "id": "9ef64825-e1ac-4157-b67f-744d1566f38a",
   "metadata": {},
   "outputs": [
    {
     "name": "stdout",
     "output_type": "stream",
     "text": [
      "[pytest] ✅ Initialised\n"
     ]
    }
   ],
   "source": [
    "from pytest import Tester\n",
    "tester = Tester()"
   ]
  },
  {
   "cell_type": "code",
   "execution_count": 2,
   "id": "7d033e32-b0ac-4b33-8d83-b496f2b3ac76",
   "metadata": {},
   "outputs": [
    {
     "name": "stdout",
     "output_type": "stream",
     "text": [
      "[pytest] 🧪 ************ Testing pyread ************\n",
      "[pytest] 🧪 Testing pyread:Reader\n",
      "[pytest] 🧪 Running test: pyread:Reader:read_file (local)\n",
      "[pytest] 🧪 Local read\n",
      "[pyread] ✅ Opened /exp/mu2e/data/users/sgrant/pyutils-test/TestFiles/nts.mu2e.CeEndpointOnSpillTriggered.MDC2020aq_best_v1_3_v06_03_00.001210_00000699.root\n",
      "[pytest] ✅ PASSED: pyread:Reader:read_file (local)\n",
      "[pytest] 🧪 Running test: pyread:Reader::read_file (remote)\n",
      "[pytest] 🧪 Remote read\n",
      "[pyutils] ⭐️ Setting up...\n",
      "[pyutils] ✅ Ready\n",
      "[pyread] ⭐️ Opening remote file: nts.mu2e.CeEndpointOnSpillTriggered.MDC2020aq_best_v1_3_v06_03_00.001210_00000699.root\n",
      "[pyread] ⭐️ Created file path: root://fndcadoor.fnal.gov:1094/mu2e/tape/phy-nts/nts/mu2e/CeEndpointOnSpillTriggered/MDC2020aq_best_v1_3_v06_03_00/root/cb/5a/nts.mu2e.CeEndpointOnSpillTriggered.MDC2020aq_best_v1_3_v06_03_00.001210_00000699.root\n",
      "[pyread] ✅ Opened root://fndcadoor.fnal.gov:1094/mu2e/tape/phy-nts/nts/mu2e/CeEndpointOnSpillTriggered/MDC2020aq_best_v1_3_v06_03_00/root/cb/5a/nts.mu2e.CeEndpointOnSpillTriggered.MDC2020aq_best_v1_3_v06_03_00.001210_00000699.root\n",
      "[pytest] ✅ PASSED: pyread:Reader::read_file (remote)\n",
      "[pytest] 🧪 ************ Testing pyimport ************\n",
      "[pytest] ⭐️ Testing pyimport:Importer\n",
      "[pytest] 🧪 Running test: pyimport:Importer:import_branches (local, single branch)\n",
      "[pyread] ✅ Opened /exp/mu2e/data/users/sgrant/pyutils-test/TestFiles/nts.mu2e.CeEndpointOnSpillTriggered.MDC2020aq_best_v1_3_v06_03_00.001210_00000699.root\n",
      "[pyimport] 👀 Accessing branches in tree:\n",
      "name                 | typename                 | interpretation                                                                                      \n",
      "---------------------+--------------------------+-----------------------------------------------------------------------------------------------------\n",
      "evtinfo/event        | int32_t                  | AsDtype('>i4')\n",
      "[pyimport] ✅ Imported branches\n",
      "[pyimport] 👀 Array structure:\n",
      "1471 * {\n",
      "    event: int32\n",
      "}\n",
      "[pytest] ✅ PASSED: pyimport:Importer:import_branches (local, single branch)\n",
      "[pytest] 🧪 Running test: pyimport:Importer:import_branches (remote, single branch)\n",
      "[pyread] ⭐️ Opening remote file: /exp/mu2e/data/users/sgrant/pyutils-test/TestFiles/nts.mu2e.CeEndpointOnSpillTriggered.MDC2020aq_best_v1_3_v06_03_00.001210_00000699.root\n",
      "[pyread] ⭐️ Created file path: root://fndcadoor.fnal.gov:1094/mu2e/tape/phy-nts/nts/mu2e/CeEndpointOnSpillTriggered/MDC2020aq_best_v1_3_v06_03_00/root/cb/5a/nts.mu2e.CeEndpointOnSpillTriggered.MDC2020aq_best_v1_3_v06_03_00.001210_00000699.root\n",
      "[pyread] ✅ Opened root://fndcadoor.fnal.gov:1094/mu2e/tape/phy-nts/nts/mu2e/CeEndpointOnSpillTriggered/MDC2020aq_best_v1_3_v06_03_00/root/cb/5a/nts.mu2e.CeEndpointOnSpillTriggered.MDC2020aq_best_v1_3_v06_03_00.001210_00000699.root\n",
      "[pyimport] 👀 Accessing branches in tree:\n",
      "name                 | typename                 | interpretation                                                                                      \n",
      "---------------------+--------------------------+-----------------------------------------------------------------------------------------------------\n",
      "evtinfo/event        | int32_t                  | AsDtype('>i4')\n",
      "[pyimport] ✅ Imported branches\n",
      "[pyimport] 👀 Array structure:\n",
      "1471 * {\n",
      "    event: int32\n",
      "}\n",
      "[pytest] ✅ PASSED: pyimport:Importer:import_branches (remote, single branch)\n",
      "[pytest] 🧪 Running test: pyimport:Importer:import_branches (local, grouped branches)\n",
      "[pyread] ✅ Opened /exp/mu2e/data/users/sgrant/pyutils-test/TestFiles/nts.mu2e.CeEndpointOnSpillTriggered.MDC2020aq_best_v1_3_v06_03_00.001210_00000699.root\n",
      "[pyimport] 👀 Accessing branches in tree:\n",
      "name                 | typename                 | interpretation                                                                                      \n",
      "---------------------+--------------------------+-----------------------------------------------------------------------------------------------------\n",
      "[pyimport] ✅ Imported branches\n",
      "[pyimport] 👀 Array structure:\n",
      "1471 * {\n",
      "    evt: {\n",
      "        event: int32\n",
      "    },\n",
      "    crv: {\n",
      "        \"crvcoincs.PEs\": var * float32\n",
      "    }\n",
      "}\n",
      "[pytest] ✅ PASSED: pyimport:Importer:import_branches (local, grouped branches)\n",
      "[pytest] 🧪 Running test: pyimport:Importer:import_branches (local, all branches)\n",
      "[pyread] ✅ Opened /exp/mu2e/data/users/sgrant/pyutils-test/TestFiles/nts.mu2e.CeEndpointOnSpillTriggered.MDC2020aq_best_v1_3_v06_03_00.001210_00000699.root\n",
      "[pyimport] ⭐️ Importing all branches\n",
      "[pyimport] ✅ Imported branches\n",
      "[pytest] ✅ PASSED: pyimport:Importer:import_branches (local, all branches)\n",
      "[pytest] 🧪 ************ Testing pyprocess ************\n",
      "[pytest] 🧪 Running test: pyprocess:Processor:process_data (local, single file, single branch)\n",
      "[pyprocess] ⭐️ Initialised Processor:\n",
      "\tpath = 'EventNtuple/ntuple'\n",
      "\tuse_remote = False\n",
      "\tverbosity=2\n",
      "[pyread] ✅ Opened /exp/mu2e/data/users/sgrant/pyutils-test/TestFiles/nts.mu2e.CeEndpointOnSpillTriggered.MDC2020aq_best_v1_3_v06_03_00.001210_00000699.root\n",
      "[pyimport] 👀 Accessing branches in tree:\n",
      "name                 | typename                 | interpretation                                                                                      \n",
      "---------------------+--------------------------+-----------------------------------------------------------------------------------------------------\n",
      "evtinfo/event        | int32_t                  | AsDtype('>i4')\n",
      "[pyimport] ✅ Imported branches\n",
      "[pyimport] 👀 Array structure:\n",
      "1471 * {\n",
      "    event: int32\n",
      "}\n",
      "[pyprocess] ✅ Returning result from process on /exp/mu2e/data/users/sgrant/pyutils-test/TestFiles/nts.mu2e.CeEndpointOnSpillTriggered.MDC2020aq_best_v1_3_v06_03_00.001210_00000699.root\n",
      "[pytest] ✅ PASSED: pyprocess:Processor:process_data (local, single file, single branch)\n",
      "[pytest] 🧪 Running test: pyprocess:Processor:process_data (remote, single file, single branch)\n",
      "[pyprocess] ⭐️ Initialised Processor:\n",
      "\tpath = 'EventNtuple/ntuple'\n",
      "\tuse_remote = True\n",
      "\tlocation = tape\n",
      "\tschema = root\n",
      "\tverbosity=2\n",
      "[pyread] ⭐️ Opening remote file: nts.mu2e.CeEndpointOnSpillTriggered.MDC2020aq_best_v1_3_v06_03_00.001210_00000699.root\n",
      "[pyread] ⭐️ Created file path: root://fndcadoor.fnal.gov:1094/mu2e/tape/phy-nts/nts/mu2e/CeEndpointOnSpillTriggered/MDC2020aq_best_v1_3_v06_03_00/root/cb/5a/nts.mu2e.CeEndpointOnSpillTriggered.MDC2020aq_best_v1_3_v06_03_00.001210_00000699.root\n",
      "[pyread] ✅ Opened root://fndcadoor.fnal.gov:1094/mu2e/tape/phy-nts/nts/mu2e/CeEndpointOnSpillTriggered/MDC2020aq_best_v1_3_v06_03_00/root/cb/5a/nts.mu2e.CeEndpointOnSpillTriggered.MDC2020aq_best_v1_3_v06_03_00.001210_00000699.root\n",
      "[pyimport] 👀 Accessing branches in tree:\n",
      "name                 | typename                 | interpretation                                                                                      \n",
      "---------------------+--------------------------+-----------------------------------------------------------------------------------------------------\n",
      "evtinfo/event        | int32_t                  | AsDtype('>i4')\n",
      "[pyimport] ✅ Imported branches\n",
      "[pyimport] 👀 Array structure:\n",
      "1471 * {\n",
      "    event: int32\n",
      "}\n",
      "[pyprocess] ✅ Returning result from process on nts.mu2e.CeEndpointOnSpillTriggered.MDC2020aq_best_v1_3_v06_03_00.001210_00000699.root\n",
      "[pytest] ✅ PASSED: pyprocess:Processor:process_data (remote, single file, single branch)\n",
      "[pytest] 🧪 Running test: pyprocess:Processor:get_file_list (local file list path)\n",
      "[pyprocess] ⭐️ Initialised Processor:\n",
      "\tpath = 'EventNtuple/ntuple'\n",
      "\tuse_remote = False\n",
      "\tverbosity=2\n",
      "[pyprocess] ⭐️ Loading file list from /exp/mu2e/data/users/sgrant/pyutils-test/TestFileLists/local_file_list.txt\n",
      "[pyprocess] ✅ Successfully loaded file list\n",
      "\tPath: None\n",
      "\tCount: 10 files\n",
      "[pytest] ✅ PASSED: pyprocess:Processor:get_file_list (local file list path)\n",
      "[pytest] 🧪 Running test: pyprocess:Processor:get_file_list (remote file list path)\n",
      "[pyprocess] ⭐️ Initialised Processor:\n",
      "\tpath = 'EventNtuple/ntuple'\n",
      "\tuse_remote = True\n",
      "\tlocation = tape\n",
      "\tschema = root\n",
      "\tverbosity=2\n",
      "[pyprocess] ⭐️ Loading file list from /exp/mu2e/data/users/sgrant/pyutils-test/TestFileLists/remote_file_list.txt\n",
      "[pyprocess] ✅ Successfully loaded file list\n",
      "\tPath: None\n",
      "\tCount: 10 files\n",
      "[pytest] ✅ PASSED: pyprocess:Processor:get_file_list (remote file list path)\n",
      "[pytest] 🧪 Running test: pyprocess:Processor:get_file_list (SAM definition)\n",
      "[pyprocess] ⭐️ Initialised Processor:\n",
      "\tpath = 'EventNtuple/ntuple'\n",
      "\tuse_remote = True\n",
      "\tlocation = tape\n",
      "\tschema = root\n",
      "\tverbosity=2\n",
      "[pyprocess] 👀 Loading file list for SAM definition: nts.mu2e.CeEndpointOnSpillTriggered.MDC2020aq_best_v1_3_v06_03_00.root\n",
      "[pyprocess] ✅ Successfully loaded file list\n",
      "\tSAM definition: nts.mu2e.CeEndpointOnSpillTriggered.MDC2020aq_best_v1_3_v06_03_00.root\n",
      "\tCount: 1000 files\n",
      "[pytest] ✅ PASSED: pyprocess:Processor:get_file_list (SAM definition)\n",
      "[pytest] 🧪 Running test: pyprocess:Processor:process_data (basic multithread)\n",
      "[pyprocess] ⭐️ Initialised Processor:\n",
      "\tpath = 'EventNtuple/ntuple'\n",
      "\tuse_remote = False\n",
      "\tverbosity=2\n",
      "[pyprocess] ⭐️ Loading file list from /exp/mu2e/data/users/sgrant/pyutils-test/TestFileLists/local_file_list.txt\n",
      "[pyprocess] ✅ Successfully loaded file list\n",
      "\tPath: None\n",
      "\tCount: 10 files\n",
      "[pyprocess] ⭐️ Starting processing on 10 files with 10 threads\n"
     ]
    },
    {
     "name": "stderr",
     "output_type": "stream",
     "text": [
      "Processing: 100%|\u001b[32m██████████████████████████████\u001b[0m| 10/10 [00:01<00:00,  5.76file/s, successful=10, failed=0]\u001b[0m\n"
     ]
    },
    {
     "name": "stdout",
     "output_type": "stream",
     "text": [
      "[pyprocess] ✅ Returning concatenated array containing 70255 events\n",
      "[pyprocess] 👀 Array structure:\n",
      "[pytest] ✅ PASSED: pyprocess:Processor:process_data (basic multithread)\n",
      "[pytest] 🧪 Running test: pyprocess:Processor:process_data (basic multiprocess)\n",
      "[pyprocess] ⭐️ Initialised Processor:\n",
      "\tpath = 'EventNtuple/ntuple'\n",
      "\tuse_remote = False\n",
      "\tverbosity=2\n",
      "[pyprocess] ⭐️ Loading file list from /exp/mu2e/data/users/sgrant/pyutils-test/TestFileLists/local_file_list.txt\n",
      "[pyprocess] ✅ Successfully loaded file list\n",
      "\tPath: None\n",
      "\tCount: 10 files\n",
      "[pyprocess] ⭐️ Starting processing on 10 files with 10 threads\n"
     ]
    },
    {
     "name": "stderr",
     "output_type": "stream",
     "text": [
      "Processing: 100%|\u001b[32m██████████████████████████████\u001b[0m| 10/10 [00:01<00:00,  5.71file/s, successful=10, failed=0]\u001b[0m\n"
     ]
    },
    {
     "name": "stdout",
     "output_type": "stream",
     "text": [
      "[pyprocess] ✅ Returning concatenated array containing 70255 events\n",
      "[pyprocess] 👀 Array structure:\n",
      "[pytest] ✅ PASSED: pyprocess:Processor:process_data (basic multiprocess)\n",
      "[pytest] 🧪 Running test: pyprocess:Skeleton (advanced multithread)\n",
      "[Skeleton] ⭐️ Skeleton init\n",
      "[Skeleton] ⭐️ Starting analysis\n",
      "[pyprocess] ⭐️ Initialised Processor:\n",
      "\tpath = 'EventNtuple/ntuple'\n",
      "\tuse_remote = False\n",
      "\tverbosity=1\n",
      "[pyprocess] ⭐️ Loading file list from /exp/mu2e/data/users/sgrant/pyutils-test/TestFileLists/local_file_list.txt\n",
      "[pyprocess] ✅ Successfully loaded file list\n",
      "\tPath: None\n",
      "\tCount: 10 files\n",
      "[pyprocess] ⭐️ Starting processing on 10 files with 10 threads\n"
     ]
    },
    {
     "name": "stderr",
     "output_type": "stream",
     "text": [
      "Processing: 100%|\u001b[32m██████████████████████████████\u001b[0m| 10/10 [00:00<00:00, 73.12file/s, successful=10, failed=0]\u001b[0m  "
     ]
    },
    {
     "name": "stdout",
     "output_type": "stream",
     "text": [
      "[pyprocess] ⭐️ Returning 10 results\n",
      "[Skeleton] ✅ Analysis complete\n",
      "[pytest] ✅ PASSED: pyprocess:Skeleton (advanced multithread)\n",
      "[pytest] 🧪 \n",
      "                ==================================================\n",
      "                TEST SUMMARY\n",
      "                ==================================================\n",
      "                Total tests run: 14\n",
      "                Passed: 14\n",
      "                Failed: 0\n",
      "                \n",
      "                🎉 All tests passed!\n"
     ]
    },
    {
     "name": "stderr",
     "output_type": "stream",
     "text": [
      "\n"
     ]
    },
    {
     "data": {
      "text/plain": [
       "True"
      ]
     },
     "execution_count": 2,
     "metadata": {},
     "output_type": "execute_result"
    }
   ],
   "source": [
    "tester.run(\n",
    "    test_reader=True,\n",
    "    test_importer=True,\n",
    "    test_processor=True,\n",
    "    test_plot=False,\n",
    "    test_print=False,\n",
    "    test_vector=False,\n",
    "    test_select=False\n",
    ")"
   ]
  },
  {
   "cell_type": "code",
   "execution_count": null,
   "id": "0d6f6cd5-2b4e-4dc7-9126-1ede07188546",
   "metadata": {},
   "outputs": [],
   "source": []
  }
 ],
 "metadata": {
  "kernelspec": {
   "display_name": "mu2e_env [conda env:.conda-mu2e_env.v1.3.0]",
   "language": "python",
   "name": "conda-env-.conda-mu2e_env.v1.3.0-py"
  },
  "language_info": {
   "codemirror_mode": {
    "name": "ipython",
    "version": 3
   },
   "file_extension": ".py",
   "mimetype": "text/x-python",
   "name": "python",
   "nbconvert_exporter": "python",
   "pygments_lexer": "ipython3",
   "version": "3.12.7"
  }
 },
 "nbformat": 4,
 "nbformat_minor": 5
}
